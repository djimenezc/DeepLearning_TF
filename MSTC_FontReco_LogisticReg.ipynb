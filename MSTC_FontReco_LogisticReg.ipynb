{
 "cells": [
  {
   "cell_type": "markdown",
   "metadata": {},
   "source": [
    "## Font type Recognition using Logistic Regression\n",
    "\n",
    "\n",
    "* <font size=4 color='green'>MSTC seminar on Deep Learning & Tensorflow</font>"
   ]
  },
  {
   "cell_type": "code",
   "execution_count": 1,
   "metadata": {
    "collapsed": true
   },
   "outputs": [],
   "source": [
    "import tensorflow as tf\n",
    "import numpy as np\n"
   ]
  },
  {
   "cell_type": "code",
   "execution_count": 2,
   "metadata": {
    "collapsed": false
   },
   "outputs": [
    {
     "name": "stdout",
     "output_type": "stream",
     "text": [
      "Requirement already satisfied: tqdm in /gpfs/global_fs01/sym_shared/YPProdSpark/user/s35d-c92fe439b3aa21-1525a0f645bc/.local/lib/python2.7/site-packages\r\n"
     ]
    }
   ],
   "source": [
    " !pip install tqdm"
   ]
  },
  {
   "cell_type": "code",
   "execution_count": 3,
   "metadata": {
    "collapsed": true
   },
   "outputs": [],
   "source": [
    "try:\n",
    "    from tqdm import tqdm\n",
    "except ImportError:\n",
    "    def tqdm(x, *args, **kwargs):\n",
    "        return x"
   ]
  },
  {
   "cell_type": "code",
   "execution_count": 4,
   "metadata": {
    "collapsed": false
   },
   "outputs": [],
   "source": [
    "\"\"\"\n",
    "Load and data\n",
    "\"\"\"\n",
    "\n",
    "import os\n",
    "from six.moves import urllib\n",
    "\n",
    "file_url = 'https://github.com/bloolizard/PlayWithTensorFlow/raw/master/data_with_labels.npz'\n",
    "file_name = 'data_with_labels.npz'\n",
    "\n",
    "if not os.path.exists(file_name):\n",
    "    urllib.request.urlretrieve(file_url, file_name)"
   ]
  },
  {
   "cell_type": "code",
   "execution_count": 5,
   "metadata": {
    "collapsed": false
   },
   "outputs": [
    {
     "data": {
      "text/plain": [
       "['RNN_GRU_model',\n",
       " 'convTest.ckpt',\n",
       " 'RNN_GRU_model.meta',\n",
       " 'tinyshakespeare.txt',\n",
       " 'RNN_GRU_model_shakespeare.meta',\n",
       " 'convTest.ckpt.meta',\n",
       " 'RNN_GRU_model_cervantes.meta',\n",
       " 'checkpoint',\n",
       " 'conv1.ckpt',\n",
       " 'conv1.npz',\n",
       " 'conv1.ckpt.meta',\n",
       " 'data_with_labels.npz',\n",
       " 'RNN_GRU_model_shakespeare',\n",
       " 'cervantes.txt',\n",
       " 'temp.npz',\n",
       " 'RNN_GRU_model_cervantes']"
      ]
     },
     "execution_count": 5,
     "metadata": {},
     "output_type": "execute_result"
    }
   ],
   "source": [
    "os.listdir(\"./\")"
   ]
  },
  {
   "cell_type": "code",
   "execution_count": 6,
   "metadata": {
    "collapsed": true
   },
   "outputs": [],
   "source": [
    "#os.remove(\"./D:\\\\MLmaster\\\\Tree.dot\")"
   ]
  },
  {
   "cell_type": "code",
   "execution_count": 7,
   "metadata": {
    "collapsed": false
   },
   "outputs": [],
   "source": [
    "# Load data\n",
    "data = np.load('data_with_labels.npz')\n",
    "\n",
    "train = data['arr_0']/255.\n",
    "labels = data['arr_1']"
   ]
  },
  {
   "cell_type": "markdown",
   "metadata": {},
   "source": [
    "### Data: 2790 36x36 images"
   ]
  },
  {
   "cell_type": "code",
   "execution_count": 8,
   "metadata": {
    "collapsed": false
   },
   "outputs": [
    {
     "data": {
      "text/plain": [
       "(2790, 36, 36)"
      ]
     },
     "execution_count": 8,
     "metadata": {},
     "output_type": "execute_result"
    }
   ],
   "source": [
    "train.shape"
   ]
  },
  {
   "cell_type": "code",
   "execution_count": 9,
   "metadata": {
    "collapsed": false
   },
   "outputs": [
    {
     "name": "stdout",
     "output_type": "stream",
     "text": [
      "[[ 0.  0.  0. ...,  0.  0.  0.]\n",
      " [ 0.  0.  0. ...,  0.  0.  0.]\n",
      " [ 0.  0.  0. ...,  0.  0.  0.]\n",
      " ..., \n",
      " [ 0.  0.  0. ...,  0.  0.  0.]\n",
      " [ 0.  0.  0. ...,  0.  0.  0.]\n",
      " [ 0.  0.  0. ...,  0.  0.  0.]]\n"
     ]
    }
   ],
   "source": [
    "# Look at some data\n",
    "print(train[1])"
   ]
  },
  {
   "cell_type": "code",
   "execution_count": 10,
   "metadata": {
    "collapsed": false
   },
   "outputs": [],
   "source": [
    "# If you have matplotlib installed\n",
    "import matplotlib.pyplot as plt\n",
    "%matplotlib inline"
   ]
  },
  {
   "cell_type": "code",
   "execution_count": 11,
   "metadata": {
    "collapsed": false
   },
   "outputs": [
    {
     "data": {
      "text/plain": [
       "[<matplotlib.lines.Line2D at 0x7fe58cd9ac50>]"
      ]
     },
     "execution_count": 11,
     "metadata": {},
     "output_type": "execute_result"
    },
    {
     "data": {
      "image/png": "[encoded data removed]",
      "text/plain": [
       "<matplotlib.figure.Figure at 0x7fe58f71af90>"
      ]
     },
     "metadata": {},
     "output_type": "display_data"
    }
   ],
   "source": [
    "plt.plot(labels)"
   ]
  },
  {
   "cell_type": "code",
   "execution_count": 12,
   "metadata": {
    "collapsed": false
   },
   "outputs": [
    {
     "data": {
      "image/png": "[encoded data removed]",
      "text/plain": [
       "<matplotlib.figure.Figure at 0x7fe58cdba590>"
      ]
     },
     "metadata": {},
     "output_type": "display_data"
    }
   ],
   "source": [
    "plt.ion()\n",
    "\n",
    "# Let's look at a subplot of one of A in each font\n",
    "f, plts = plt.subplots(5, sharex=True)\n",
    "c = 90\n",
    "for i in range(5):\n",
    "    plts[i].pcolor(train[c + i * 558],\n",
    "                   cmap=plt.cm.gray_r)"
   ]
  },
  {
   "cell_type": "code",
   "execution_count": 13,
   "metadata": {
    "collapsed": true
   },
   "outputs": [],
   "source": [
    "def to_onehot(labels,nclasses = 5):\n",
    "    '''\n",
    "    Convert labels to \"one-hot\" format.\n",
    "    >>> a = [0,1,2,3]\n",
    "    >>> to_onehot(a,5)\n",
    "    array([[ 1.,  0.,  0.,  0.,  0.],\n",
    "           [ 0.,  1.,  0.,  0.,  0.],\n",
    "           [ 0.,  0.,  1.,  0.,  0.],\n",
    "           [ 0.,  0.,  0.,  1.,  0.]])\n",
    "    '''\n",
    "    outlabels = np.zeros((len(labels),nclasses))\n",
    "    for i,l in enumerate(labels):\n",
    "        outlabels[i,l] = 1\n",
    "    return outlabels\n",
    "\n",
    "onehot = to_onehot(labels)"
   ]
  },
  {
   "cell_type": "code",
   "execution_count": 14,
   "metadata": {
    "collapsed": false
   },
   "outputs": [
    {
     "name": "stdout",
     "output_type": "stream",
     "text": [
      "[ 0.  1.  0.  0.  0.]\n"
     ]
    }
   ],
   "source": [
    "print(onehot[600])"
   ]
  },
  {
   "cell_type": "markdown",
   "metadata": {},
   "source": [
    "### Permutation! + split data into training / validation"
   ]
  },
  {
   "cell_type": "code",
   "execution_count": 15,
   "metadata": {
    "collapsed": true
   },
   "outputs": [],
   "source": [
    "# Split data into training (90%) and validation (10%)\n",
    "indices = np.random.permutation(train.shape[0])\n",
    "valid_cnt = int(train.shape[0] * 0.1)\n",
    "test_idx, training_idx = indices[:valid_cnt],\\\n",
    "                         indices[valid_cnt:]\n",
    "test, train = train[test_idx,:],\\\n",
    "              train[training_idx,:]\n",
    "onehot_test, onehot_train = onehot[test_idx,:],\\\n",
    "                        onehot[training_idx,:]"
   ]
  },
  {
   "cell_type": "code",
   "execution_count": 16,
   "metadata": {
    "collapsed": false
   },
   "outputs": [
    {
     "data": {
      "text/plain": [
       "(279, 36, 36)"
      ]
     },
     "execution_count": 16,
     "metadata": {},
     "output_type": "execute_result"
    }
   ],
   "source": [
    "test.shape"
   ]
  },
  {
   "cell_type": "code",
   "execution_count": 17,
   "metadata": {
    "collapsed": false
   },
   "outputs": [
    {
     "data": {
      "text/plain": [
       "array([[ 0.,  0.,  1.,  0.,  0.],\n",
       "       [ 1.,  0.,  0.,  0.,  0.],\n",
       "       [ 1.,  0.,  0.,  0.,  0.],\n",
       "       [ 0.,  0.,  1.,  0.,  0.]])"
      ]
     },
     "execution_count": 17,
     "metadata": {},
     "output_type": "execute_result"
    }
   ],
   "source": [
    "onehot_test[0:4]"
   ]
  },
  {
   "cell_type": "code",
   "execution_count": 18,
   "metadata": {
    "collapsed": false
   },
   "outputs": [
    {
     "data": {
      "text/plain": [
       "1296"
      ]
     },
     "execution_count": 18,
     "metadata": {},
     "output_type": "execute_result"
    }
   ],
   "source": [
    "36*36"
   ]
  },
  {
   "cell_type": "code",
   "execution_count": 28,
   "metadata": {
    "collapsed": false
   },
   "outputs": [],
   "source": [
    "sess = tf.InteractiveSession()\n",
    "\n",
    "\n",
    "# These will be inputs\n",
    "## Input pixels, flattened\n",
    "x = tf.placeholder(\"float\", [None, 1296])\n",
    "## Known labels\n",
    "y_ = tf.placeholder(\"float\", [None,5])\n",
    "\n",
    "# Variables\n",
    "W = tf.Variable(tf.zeros([1296,5]))\n",
    "b = tf.Variable(tf.zeros([5]))\n",
    "\n",
    "# Just initialize\n",
    "sess.run(tf.initialize_all_variables())\n",
    "#sess.run(tf.global_variables_initializer())\n",
    "\n",
    "# Define model\n",
    "#y = tf.nn.softmax(tf.matmul(x,W)\n",
    "y = tf.matmul(x,W) + b\n",
    "\n",
    "### End model specification, begin training code\n",
    "\n",
    "\n",
    "# Climb on cross-entropy\n",
    "cross_entropy = tf.reduce_mean(\n",
    "        tf.nn.softmax_cross_entropy_with_logits(\n",
    "        y + 1e-50, y_))\n",
    "\n",
    "# How we train\n",
    "train_step = tf.train.GradientDescentOptimizer(0.1).minimize(cross_entropy)\n",
    "\n",
    "# Define accuracy\n",
    "correct_prediction = tf.equal(tf.argmax(y,1),tf.argmax(y_,1))\n",
    "accuracy = tf.reduce_mean(tf.cast(correct_prediction, \"float\"))\n"
   ]
  },
  {
   "cell_type": "code",
   "execution_count": 29,
   "metadata": {
    "collapsed": false
   },
   "outputs": [
    {
     "name": "stderr",
     "output_type": "stream",
     "text": [
      "100%|██████████| 1000/1000 [00:11<00:00, 90.17it/s]\n"
     ]
    }
   ],
   "source": [
    "# Actually train\n",
    "epochs = 1000\n",
    "\n",
    "# aux arrays to store train and test accuracy results\n",
    "# once every 10 epochs\n",
    "\n",
    "train_acc = np.zeros(epochs//10)\n",
    "test_acc = np.zeros(epochs//10)\n",
    "\n",
    "for i in tqdm(range(epochs)):\n",
    "    # Record summary data, and the accuracy\n",
    "    if i % 10 == 0:\n",
    "        # Check accuracy on train set\n",
    "        A = accuracy.eval(feed_dict={\n",
    "            x: train.reshape([-1,1296]),\n",
    "            y_: onehot_train})\n",
    "        train_acc[i//10] = A\n",
    "        # And now the validation set\n",
    "        A = accuracy.eval(feed_dict={\n",
    "            x: test.reshape([-1,1296]),\n",
    "            y_: onehot_test})\n",
    "        test_acc[i//10] = A\n",
    "        \n",
    "    # ALL data is used in every run (i.e. no minibatches)    \n",
    "    train_step.run(feed_dict={\n",
    "        x: train.reshape([-1,1296]),\n",
    "        y_: onehot_train})\n"
   ]
  },
  {
   "cell_type": "code",
   "execution_count": 30,
   "metadata": {
    "collapsed": false
   },
   "outputs": [
    {
     "name": "stdout",
     "output_type": "stream",
     "text": [
      "0.720031857491\n",
      "0.670250892639\n"
     ]
    },
    {
     "data": {
      "text/plain": [
       "[<matplotlib.lines.Line2D at 0x7fe544449290>]"
      ]
     },
     "execution_count": 30,
     "metadata": {},
     "output_type": "execute_result"
    },
    {
     "data": {
      "image/png": "[encoded data removed]",
      "text/plain": [
       "<matplotlib.figure.Figure at 0x7fe544449810>"
      ]
     },
     "metadata": {},
     "output_type": "display_data"
    }
   ],
   "source": [
    "# Notice that accuracy flattens out\n",
    "print(train_acc[-1])\n",
    "print(test_acc[-1])\n",
    "\n",
    "# Plot the accuracy curves\n",
    "plt.plot(train_acc,'bo')\n",
    "plt.plot(test_acc,'rx')\n",
    "\n",
    "\n",
    "\n",
    "\n"
   ]
  },
  {
   "cell_type": "code",
   "execution_count": 22,
   "metadata": {
    "collapsed": false
   },
   "outputs": [
    {
     "data": {
      "image/png": "[encoded data removed]",
      "text/plain": [
       "<matplotlib.figure.Figure at 0x7fe544504610>"
      ]
     },
     "metadata": {},
     "output_type": "display_data"
    }
   ],
   "source": [
    "# Look at a subplot of the weights for each font\n",
    "f, plts = plt.subplots(5, sharex=True)\n",
    "for i in range(5):\n",
    "    plts[i].pcolor(W.eval()[:,i].reshape([36,36]))"
   ]
  },
  {
   "cell_type": "code",
   "execution_count": 27,
   "metadata": {
    "collapsed": true
   },
   "outputs": [],
   "source": [
    "sess.close()"
   ]
  },
  {
   "cell_type": "code",
   "execution_count": null,
   "metadata": {
    "collapsed": true
   },
   "outputs": [],
   "source": []
  }
 ],
 "metadata": {
  "kernelspec": {
   "display_name": "Python 2 with Spark 1.6",
   "language": "python",
   "name": "python2"
  },
  "language_info": {
   "codemirror_mode": {
    "name": "ipython",
    "version": 2
   },
   "file_extension": ".py",
   "mimetype": "text/x-python",
   "name": "python",
   "nbconvert_exporter": "python",
   "pygments_lexer": "ipython2",
   "version": "2.7.11"
  },
  "widgets": {
   "state": {},
   "version": "1.1.2"
  }
 },
 "nbformat": 4,
 "nbformat_minor": 0
}