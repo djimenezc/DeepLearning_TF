{
 "cells": [
  {
   "cell_type": "markdown",
   "metadata": {},
   "source": [
    "## This notebook contains a simple introduction to TF\n",
    "### as used in:\n",
    "\n",
    "* <font size=4 color='green'>MSTC seminar on Deep Learning & Tensorflow</font>"
   ]
  },
  {
   "cell_type": "code",
   "execution_count": 1,
   "metadata": {
    "collapsed": false
   },
   "outputs": [],
   "source": [
    "import pip as pip\n",
    "\n",
    "! pip show tensorflow"
   ]
  },
  {
   "cell_type": "code",
   "execution_count": 2,
   "metadata": {
    "collapsed": false
   },
   "outputs": [],
   "source": [
    "#! pip install --upgrade tensorflow"
   ]
  },
  {
   "cell_type": "code",
   "execution_count": null,
   "metadata": {
    "collapsed": false
   },
   "outputs": [
    {
     "name": "stdout",
     "output_type": "stream",
     "text": [
      "Tensor(\"add:0\", shape=(), dtype=float32)\n"
     ]
    }
   ],
   "source": [
    "import tensorflow as tf\n",
    "\n",
    "x=tf.constant(1.0)\n",
    "W=tf.constant(6.0)\n",
    "b=tf.constant(1.5)\n",
    "\n",
    "y=x*W+b\n",
    "\n",
    "print(y)"
   ]
  },
  {
   "cell_type": "code",
   "execution_count": 4,
   "metadata": {
    "collapsed": false
   },
   "outputs": [
    {
     "name": "stdout",
     "output_type": "stream",
     "text": [
      "7.5\n"
     ]
    }
   ],
   "source": [
    "with tf.Session() as sess:\n",
    "    print(sess.run(y))"
   ]
  },
  {
   "cell_type": "markdown",
   "metadata": {},
   "source": [
    "### Now let's see a simple use of Variables in Tensorflow"
   ]
  },
  {
   "cell_type": "code",
   "execution_count": 5,
   "metadata": {
    "collapsed": false
   },
   "outputs": [
    {
     "name": "stdout",
     "output_type": "stream",
     "text": [
      "[-0.41041374]\n",
      "[-0.41041374]\n",
      "[-0.41041374]\n",
      "[-0.41041374]\n"
     ]
    }
   ],
   "source": [
    "x=tf.constant(1.0)\n",
    "W=tf.Variable(tf.random_uniform([1], -1.0, 1.0))\n",
    "b=tf.Variable(tf.zeros([1]))\n",
    "\n",
    "# Before starting, initialize the variables\n",
    "# new versions of tf use: \n",
    "#init = tf.global_variables_initializer()\n",
    "init = tf.initialize_all_variables()\n",
    "\n",
    "y=x*W+b\n",
    "\n",
    "with tf.Session() as sess:\n",
    "    sess.run(init)\n",
    "    for step in range(4):\n",
    "        print(sess.run(y))"
   ]
  },
  {
   "cell_type": "markdown",
   "metadata": {},
   "source": [
    "### Placeholders: computational graph entry points"
   ]
  },
  {
   "cell_type": "code",
   "execution_count": 10,
   "metadata": {
    "collapsed": false
   },
   "outputs": [
    {
     "name": "stdout",
     "output_type": "stream",
     "text": [
      "[-6.72060299]\n",
      "[-6.72060299]\n",
      "[-6.72060299]\n",
      "[-6.72060299]\n"
     ]
    }
   ],
   "source": [
    "x=tf.placeholder(tf.float32)\n",
    "W=tf.Variable(tf.random_uniform([1], -1.0, 1.0))\n",
    "b=tf.Variable(tf.zeros([1]))\n",
    "\n",
    "# Before starting, initialize the variables\n",
    "# new versions of tf use: \n",
    "#init = tf.global_variables_initializer()\n",
    "init = tf.initialize_all_variables()\n",
    "\n",
    "y=x*W+b\n",
    "\n",
    "with tf.Session() as sess:\n",
    "    sess.run(init)\n",
    "    for step in range(4):\n",
    "        print(sess.run(y,feed_dict={x:7.0}))"
   ]
  },
  {
   "cell_type": "code",
   "execution_count": null,
   "metadata": {
    "collapsed": true
   },
   "outputs": [],
   "source": [
    ""
   ]
  }
 ],
 "metadata": {
  "kernelspec": {
   "display_name": "Python 2 with Spark 1.6",
   "language": "python",
   "name": "python2"
  },
  "language_info": {
   "codemirror_mode": {
    "name": "ipython",
    "version": 2.0
   },
   "file_extension": ".py",
   "mimetype": "text/x-python",
   "name": "python",
   "nbconvert_exporter": "python",
   "pygments_lexer": "ipython2",
   "version": "2.7.11"
  },
  "widgets": {
   "state": {},
   "version": "1.1.2"
  }
 },
 "nbformat": 4,
 "nbformat_minor": 0
}