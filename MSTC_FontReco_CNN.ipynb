{
 "cells": [
  {
   "cell_type": "markdown",
   "metadata": {},
   "source": [
    "# Font type Recognition using CNN : Convolutional Neural Network\n",
    "\n",
    "\n",
    "* <font size=4 color='green'>MSTC seminar on Deep Learning & Tensorflow</font>\n"
   ]
  },
  {
   "cell_type": "code",
   "execution_count": 1,
   "metadata": {
    "collapsed": false
   },
   "outputs": [
    {
     "name": "stdout",
     "output_type": "stream",
     "text": [
      "Requirement already up-to-date: tqdm in /gpfs/global_fs01/sym_shared/YPProdSpark/user/s35d-c92fe439b3aa21-1525a0f645bc/.local/lib/python2.7/site-packages\r\n"
     ]
    }
   ],
   "source": [
    "! pip install --upgrade tqdm"
   ]
  },
  {
   "cell_type": "code",
   "execution_count": 2,
   "metadata": {
    "collapsed": false
   },
   "outputs": [],
   "source": [
    "import tensorflow as tf\n",
    "import numpy as np\n",
    "import math\n",
    "\n",
    "\n",
    "try:\n",
    "    from tqdm import tqdm, tqdm_notebook\n",
    "except ImportError:\n",
    "    def tqdm(x, *args, **kwargs):\n",
    "        return x"
   ]
  },
  {
   "cell_type": "markdown",
   "metadata": {},
   "source": [
    "### All the steps for preparing training/tresting data\n",
    "\n",
    "* Data: 2790 36x36 images"
   ]
  },
  {
   "cell_type": "code",
   "execution_count": 3,
   "metadata": {
    "collapsed": false
   },
   "outputs": [
    {
     "name": "stdout",
     "output_type": "stream",
     "text": [
      "[[ 0.  0.  0. ...,  0.  0.  0.]\n",
      " [ 0.  0.  0. ...,  0.  0.  0.]\n",
      " [ 0.  0.  0. ...,  0.  0.  0.]\n",
      " ..., \n",
      " [ 0.  0.  0. ...,  0.  0.  0.]\n",
      " [ 0.  0.  0. ...,  0.  0.  0.]\n",
      " [ 0.  0.  0. ...,  0.  0.  0.]]\n",
      "0\n"
     ]
    }
   ],
   "source": [
    "# Set random seed\n",
    "np.random.seed(0)\n",
    "\n",
    "# Load data\n",
    "data = np.load('data_with_labels.npz')\n",
    "train = data['arr_0']/255.\n",
    "labels = data['arr_1']\n",
    "\n",
    "# Look at some data\n",
    "print(train[0])\n",
    "print(labels[0])\n",
    "\n",
    "# If you have matplotlib installed\n",
    "import matplotlib.pyplot as plt\n",
    "plt.ion()\n",
    "\n",
    "def to_onehot(labels,nclasses = 5):\n",
    "    '''\n",
    "    Convert labels to \"one-hot\" format.\n",
    "    >>> a = [0,1,2,3]\n",
    "    >>> to_onehot(a,5)\n",
    "    array([[ 1.,  0.,  0.,  0.,  0.],\n",
    "           [ 0.,  1.,  0.,  0.,  0.],\n",
    "           [ 0.,  0.,  1.,  0.,  0.],\n",
    "           [ 0.,  0.,  0.,  1.,  0.]])\n",
    "    '''\n",
    "    outlabels = np.zeros((len(labels),nclasses))\n",
    "    for i,l in enumerate(labels):\n",
    "        outlabels[i,l] = 1\n",
    "    return outlabels\n",
    "\n",
    "onehot = to_onehot(labels)\n",
    "\n",
    "# Split data into training and validation\n",
    "indices = np.random.permutation(train.shape[0])\n",
    "valid_cnt = int(train.shape[0] * 0.1)\n",
    "test_idx, training_idx = indices[:valid_cnt],\\\n",
    "                         indices[valid_cnt:]\n",
    "test, train = train[test_idx,:],\\\n",
    "              train[training_idx,:]\n",
    "onehot_test, onehot_train = onehot[test_idx,:],\\\n",
    "                        onehot[training_idx,:]"
   ]
  },
  {
   "cell_type": "markdown",
   "metadata": {},
   "source": [
    "### CNN graph definition"
   ]
  },
  {
   "cell_type": "code",
   "execution_count": 4,
   "metadata": {
    "collapsed": true
   },
   "outputs": [],
   "source": [
    "sess = tf.InteractiveSession()\n",
    "\n",
    "\n",
    "# These will be inputs\n",
    "## Input pixels, image with one channel (gray)\n",
    "x = tf.placeholder(\"float\", [None, 36, 36])\n",
    "# Note that -1 is for reshaping\n",
    "#if our image was RBG (3 color channels) last dimension of shape should be 3\n",
    "x_im = tf.reshape(x, [-1,36,36,1])\n",
    "## Known labels\n",
    "# None works during variable creation to be\n",
    "# unspecified size\n",
    "y_ = tf.placeholder(\"float\", [None,5])"
   ]
  },
  {
   "cell_type": "code",
   "execution_count": 5,
   "metadata": {
    "collapsed": false
   },
   "outputs": [],
   "source": [
    "# Conv layer 1\n",
    "num_filters = 4 #also known as kernels \n",
    "winx = 5\n",
    "winy = 5\n",
    "\n",
    "W1 = tf.Variable(tf.truncated_normal(\n",
    "    [winx, winy, 1 , num_filters],\n",
    "    stddev=1./math.sqrt(winx*winy)))\n",
    "b1 = tf.Variable(tf.constant(0.1,\n",
    "                shape=[num_filters]))\n",
    "\n",
    "# 5x5 convolution, pad with zeros on edges\n",
    "xw = tf.nn.conv2d(x_im, W1,\n",
    "                  strides=[1, 1, 1, 1],\n",
    "                  padding='SAME')\n",
    "h1 = tf.nn.relu(xw + b1)\n",
    "\n",
    "# 2x2 Max pooling, no padding on edges\n",
    "p1 = tf.nn.max_pool(h1, ksize=[1, 2, 2, 1],\n",
    "        strides=[1, 2, 2, 1], padding='VALID')\n",
    "\n",
    "# Need to flatten convolutional output for use in dense layer\n",
    "p1_size = np.product(\n",
    "          [s.value for s in p1.get_shape()[1:]])\n",
    "p1f = tf.reshape(p1, [-1, p1_size ])\n",
    "\n",
    "# Dense layer\n",
    "num_hidden = 32\n",
    "W2 = tf.Variable(tf.truncated_normal(\n",
    "     [p1_size, num_hidden],\n",
    "     stddev=2./math.sqrt(p1_size)))\n",
    "b2 = tf.Variable(tf.constant(0.2,\n",
    "     shape=[num_hidden]))\n",
    "h2 = tf.nn.relu(tf.matmul(p1f,W2) + b2)\n",
    "\n",
    "# Output Layer\n",
    "W3 = tf.Variable(tf.truncated_normal(\n",
    "     [num_hidden, 5],\n",
    "     stddev=1./math.sqrt(num_hidden)))\n",
    "b3 = tf.Variable(tf.constant(0.1,shape=[5]))\n",
    "\n",
    "keep_prob = tf.placeholder(\"float\")\n",
    "h2_drop = tf.nn.dropout(h2, keep_prob)\n",
    "\n",
    "# Just initialize\n",
    "sess.run(tf.initialize_all_variables())\n",
    "\n",
    "\n",
    "# Define model\n",
    "y = tf.matmul(h2_drop,W3) + b3\n",
    "\n",
    "#we need probabilities to print the confusion matrix\n",
    "preds=tf.nn.softmax(y)"
   ]
  },
  {
   "cell_type": "markdown",
   "metadata": {},
   "source": [
    "### ... end model specification, begin training code"
   ]
  },
  {
   "cell_type": "code",
   "execution_count": 6,
   "metadata": {
    "collapsed": true
   },
   "outputs": [],
   "source": [
    "# Climb on cross-entropy\n",
    "cross_entropy = tf.reduce_mean(\n",
    "        tf.nn.softmax_cross_entropy_with_logits(\n",
    "        y + 1e-50, y_))\n",
    "\n",
    "# How we train\n",
    "train_step = tf.train.GradientDescentOptimizer(\n",
    "             0.01).minimize(cross_entropy)\n",
    "\n",
    "# Define accuracy\n",
    "correct_prediction = tf.equal(tf.argmax(y,1),\n",
    "                              tf.argmax(y_,1))\n",
    "accuracy = tf.reduce_mean(tf.cast(\n",
    "           correct_prediction, \"float\"))"
   ]
  },
  {
   "cell_type": "markdown",
   "metadata": {},
   "source": [
    "## Train..."
   ]
  },
  {
   "cell_type": "code",
   "execution_count": 7,
   "metadata": {
    "collapsed": false
   },
   "outputs": [
    {
     "name": "stderr",
     "output_type": "stream",
     "text": [
      "100%|██████████| 1000/1000 [06:17<00:00,  2.78it/s]"
     ]
    },
    {
     "name": "stdout",
     "output_type": "stream",
     "text": [
      "convTest saved!\n",
      "train & test accuracy saved!\n"
     ]
    },
    {
     "name": "stderr",
     "output_type": "stream",
     "text": [
      "\n"
     ]
    }
   ],
   "source": [
    "# Actually train\n",
    "epochs = 1000\n",
    "train_acc = np.zeros(epochs//10)\n",
    "test_acc = np.zeros(epochs//10)\n",
    "\n",
    "for i in tqdm(range(epochs)):\n",
    "    # Record summary data, and the accuracy\n",
    "    if i % 10 == 0:  \n",
    "        # Check accuracy on train set\n",
    "        A = accuracy.eval(feed_dict={x: train,\n",
    "            y_: onehot_train, keep_prob: 1.0})\n",
    "        train_acc[i//10] = A\n",
    "        # And now the validation set\n",
    "        A = accuracy.eval(feed_dict={x: test,\n",
    "            y_: onehot_test, keep_prob: 1.0})\n",
    "        test_acc[i//10] = A\n",
    "    train_step.run(feed_dict={x: train,\n",
    "        y_: onehot_train, keep_prob: 0.75})\n",
    "\n",
    "cnn_test_pred=sess.run(preds,feed_dict={x: test,\n",
    "            y_: onehot_test, keep_prob: 1.0})\n",
    "    \n",
    "# Save the weights\n",
    "saver = tf.train.Saver()\n",
    "saver.save(sess, \"convTest.ckpt\")\n",
    "\n",
    "print 'convTest saved!'\n",
    "\n",
    "name='temp.npz'\n",
    "np.savez_compressed(name, train_acc, test_acc)\n",
    "\n",
    "print 'train & test accuracy saved!'"
   ]
  },
  {
   "cell_type": "code",
   "execution_count": 8,
   "metadata": {
    "collapsed": true
   },
   "outputs": [],
   "source": [
    "name='temp.npz'\n",
    "data = np.load(name)"
   ]
  },
  {
   "cell_type": "code",
   "execution_count": 9,
   "metadata": {
    "collapsed": false
   },
   "outputs": [
    {
     "data": {
      "text/plain": [
       "numpy.lib.npyio.NpzFile"
      ]
     },
     "execution_count": 9,
     "metadata": {},
     "output_type": "execute_result"
    }
   ],
   "source": [
    "type(data)"
   ]
  },
  {
   "cell_type": "code",
   "execution_count": 10,
   "metadata": {
    "collapsed": false
   },
   "outputs": [
    {
     "data": {
      "text/plain": [
       "['arr_1', 'arr_0']"
      ]
     },
     "execution_count": 10,
     "metadata": {},
     "output_type": "execute_result"
    }
   ],
   "source": [
    "data.files"
   ]
  },
  {
   "cell_type": "code",
   "execution_count": 11,
   "metadata": {
    "collapsed": false
   },
   "outputs": [],
   "source": [
    "train_acc = data['arr_0']\n",
    "test_acc = data['arr_1']"
   ]
  },
  {
   "cell_type": "code",
   "execution_count": 12,
   "metadata": {
    "collapsed": false
   },
   "outputs": [],
   "source": [
    "# Restore\n",
    "saver = tf.train.Saver()\n",
    "saver.restore(sess, \"convTest.ckpt\")"
   ]
  },
  {
   "cell_type": "code",
   "execution_count": 13,
   "metadata": {
    "collapsed": false
   },
   "outputs": [
    {
     "name": "stdout",
     "output_type": "stream",
     "text": [
      "Training Accuracy= 0.78176\n"
     ]
    }
   ],
   "source": [
    "# Check accuracy on train set\n",
    "A = accuracy.eval(feed_dict={x: train,\n",
    "    y_: onehot_train, keep_prob: 1.0})\n",
    "\n",
    "print 'Training Accuracy= %s' % A"
   ]
  },
  {
   "cell_type": "code",
   "execution_count": 14,
   "metadata": {
    "collapsed": false
   },
   "outputs": [
    {
     "name": "stdout",
     "output_type": "stream",
     "text": [
      "Test Accuracy= 0.724014\n"
     ]
    }
   ],
   "source": [
    "# And now the validation set\n",
    "A = accuracy.eval(feed_dict={x: test,\n",
    "    y_: onehot_test, keep_prob: 1.0})\n",
    "print 'Test Accuracy= %s' % A"
   ]
  },
  {
   "cell_type": "code",
   "execution_count": 15,
   "metadata": {
    "collapsed": false
   },
   "outputs": [
    {
     "data": {
      "text/plain": [
       "<matplotlib.colorbar.Colorbar at 0x7fe9b8060ed0>"
      ]
     },
     "execution_count": 15,
     "metadata": {},
     "output_type": "execute_result"
    },
    {
     "data": {
      "image/png": "[encoded data removed]",
      "text/plain": [
       "<matplotlib.figure.Figure at 0x7fe9706b58d0>"
      ]
     },
     "metadata": {},
     "output_type": "display_data"
    },
    {
     "data": {
      "image/png": "[encoded data removed]",
      "text/plain": [
       "<matplotlib.figure.Figure at 0x7fe9b82aaf90>"
      ]
     },
     "metadata": {},
     "output_type": "display_data"
    }
   ],
   "source": [
    "# Plot the accuracy curves\n",
    "\n",
    "%matplotlib inline \n",
    "plt.figure(figsize=(6, 6))\n",
    "plt.plot(train_acc,'b')\n",
    "plt.plot(test_acc,'r')\n",
    "\n",
    "# Look at the final testing confusion matrix\n",
    "pred = np.argmax(y.eval(\n",
    "       feed_dict={x: test, keep_prob: 1.0,\n",
    "       y_: onehot_test}), axis = 1)\n",
    "conf = np.zeros([5,5])\n",
    "for p,t in zip(pred,np.argmax(onehot_test,\n",
    "                              axis=1)):\n",
    "    conf[t,p] += 1\n",
    "\n",
    "plt.matshow(conf)\n",
    "plt.colorbar()"
   ]
  },
  {
   "cell_type": "code",
   "execution_count": 16,
   "metadata": {
    "collapsed": false
   },
   "outputs": [
    {
     "data": {
      "image/png": "[encoded data removed]",
      "text/plain": [
       "<matplotlib.figure.Figure at 0x7fe9b853e710>"
      ]
     },
     "metadata": {},
     "output_type": "display_data"
    }
   ],
   "source": [
    "# Let's look at a subplot of some weights\n",
    "f, plts = plt.subplots(4)\n",
    "for i in range(4):\n",
    "    plts[i].matshow(\n",
    "            W1.eval()[:,:,0,i])"
   ]
  },
  {
   "cell_type": "code",
   "execution_count": 17,
   "metadata": {
    "collapsed": false
   },
   "outputs": [
    {
     "data": {
      "text/plain": [
       "<matplotlib.colorbar.Colorbar at 0x7fe9b8183ad0>"
      ]
     },
     "execution_count": 17,
     "metadata": {},
     "output_type": "execute_result"
    },
    {
     "data": {
      "image/png": "[encoded data removed]",
      "text/plain": [
       "<matplotlib.figure.Figure at 0x7fe9b8183950>"
      ]
     },
     "metadata": {},
     "output_type": "display_data"
    }
   ],
   "source": [
    "# Examine the output weights\n",
    "plt.matshow(W3.eval())\n",
    "plt.colorbar()"
   ]
  },
  {
   "cell_type": "code",
   "execution_count": 18,
   "metadata": {
    "collapsed": false
   },
   "outputs": [
    {
     "data": {
      "text/plain": [
       "'conv1.ckpt'"
      ]
     },
     "execution_count": 18,
     "metadata": {},
     "output_type": "execute_result"
    }
   ],
   "source": [
    "# Save the weights\n",
    "saver = tf.train.Saver()\n",
    "saver.save(sess, \"conv1.ckpt\")"
   ]
  },
  {
   "cell_type": "code",
   "execution_count": 19,
   "metadata": {
    "collapsed": true
   },
   "outputs": [],
   "source": [
    "# Restore\n",
    "saver.restore(sess, \"conv1.ckpt\")"
   ]
  },
  {
   "cell_type": "code",
   "execution_count": 20,
   "metadata": {
    "collapsed": true
   },
   "outputs": [],
   "source": [
    "# Or use Numpy manually\n",
    "def save_all(name = 'conv1'):\n",
    "    np.savez_compressed(name, W1.eval(),\n",
    "            b1.eval(), W2.eval(), b2.eval(),\n",
    "            W3.eval(), b3.eval())\n",
    "\n",
    "save_all()"
   ]
  },
  {
   "cell_type": "code",
   "execution_count": 21,
   "metadata": {
    "collapsed": true
   },
   "outputs": [],
   "source": [
    "def load_all(name = 'conv1.npz'):\n",
    "    data = np.load(name)\n",
    "    sess.run(W1.assign(data['arr_0']))\n",
    "    sess.run(b1.assign(data['arr_1']))\n",
    "    sess.run(W2.assign(data['arr_2']))\n",
    "    sess.run(b2.assign(data['arr_3']))\n",
    "    sess.run(W3.assign(data['arr_4']))\n",
    "    sess.run(b3.assign(data['arr_5']))\n",
    "\n",
    "load_all()"
   ]
  },
  {
   "cell_type": "markdown",
   "metadata": {
    "collapsed": true
   },
   "source": [
    "<h2>Confusion matrix</h2>"
   ]
  },
  {
   "cell_type": "code",
   "execution_count": 22,
   "metadata": {
    "collapsed": true
   },
   "outputs": [],
   "source": [
    "#packages for confusion matrix\n",
    "import itertools\n",
    "import random\n",
    "from sklearn.metrics import confusion_matrix\n",
    "import matplotlib\n",
    "import matplotlib.ticker as ticker\n",
    "%matplotlib inline"
   ]
  },
  {
   "cell_type": "code",
   "execution_count": 23,
   "metadata": {
    "collapsed": true
   },
   "outputs": [],
   "source": [
    "a=[]\n",
    "b=[]\n",
    "\n",
    "for i in cnn_test_pred:\n",
    "    m=np.argmax(i)\n",
    "    a.append(m)\n",
    "    \n",
    "for j in onehot_test:\n",
    "    n=np.argmax(j)\n",
    "    b.append(n)\n",
    "    \n",
    "    \n",
    "prediction=np.asarray(a)\n",
    "label=np.asarray(b)\n",
    "    "
   ]
  },
  {
   "cell_type": "code",
   "execution_count": 24,
   "metadata": {
    "collapsed": true
   },
   "outputs": [],
   "source": [
    "class_names=['0' ,'1' ,'2' ,'3','4'] \n",
    "\n",
    "\n",
    "#Definition of our plotting\n",
    "def plot_confusion_matrix(cm, classes,\n",
    "                          normalize=False,\n",
    "                          title='Confusion matrix',\n",
    "                          cmap=plt.cm.Reds):\n",
    "    \n",
    "    \n",
    "    \"\"\"\n",
    "    This function prints and plots the confusion matrix (cm).\n",
    "    Normalization can be applied by setting `normalize=True`.\n",
    "    \"\"\"\n",
    "    plt.imshow(cm, interpolation='nearest', cmap=cmap)\n",
    "    plt.title(title)\n",
    "    plt.colorbar()\n",
    "    tick_marks = np.arange(len(classes))\n",
    "    plt.xticks(tick_marks, classes, rotation='horizontal')\n",
    "    plt.yticks(tick_marks, classes)\n",
    "    \n",
    "    \n",
    "#Set differences with and without normalization\n",
    "\n",
    "    if normalize:\n",
    "        cm = cm.astype('float') / cm.sum(axis=1)[:, np.newaxis]\n",
    "        print(\"Normalized confusion matrix\")\n",
    "    else:\n",
    "        print('Confusion matrix, without normalization')\n",
    "\n",
    "    print(cm)\n",
    "\n",
    "    thresh = cm.max() / 2.\n",
    "  \n",
    " #some slight changes in order to plot % in the normalize confusion matrix\n",
    "    if normalize:\n",
    "        for i, j in itertools.product(range(cm.shape[0]), range(cm.shape[1])):\n",
    "            plt.text(j, i, ((\"%.1f\" % (cm[i,j]*100))),\n",
    "                     horizontalalignment=\"center\",\n",
    "                     color=\"white\" if cm[i, j] > thresh else \"black\")\n",
    "        \n",
    "    else:\n",
    "        for i, j in itertools.product(range(cm.shape[0]), range(cm.shape[1])):\n",
    "            plt.text(j, i, cm[i, j],\n",
    "                     horizontalalignment=\"center\",\n",
    "                     color=\"white\" if cm[i, j] > thresh else \"black\")\n",
    "        \n",
    "\n",
    "    plt.tight_layout()\n",
    "    plt.ylabel('True label')\n",
    "    plt.xlabel('Predicted label')"
   ]
  },
  {
   "cell_type": "code",
   "execution_count": 25,
   "metadata": {
    "collapsed": true
   },
   "outputs": [],
   "source": [
    "# Compute confusion matrix\n",
    "cnf_matrix = confusion_matrix(label, prediction)\n",
    "\n",
    "#Setting print options. Float numbers precision of 2 for our output.\n",
    "np.set_printoptions(precision=2) "
   ]
  },
  {
   "cell_type": "code",
   "execution_count": 26,
   "metadata": {
    "collapsed": false
   },
   "outputs": [
    {
     "name": "stdout",
     "output_type": "stream",
     "text": [
      "Confusion matrix, without normalization\n",
      "[[37  1 17  0  1]\n",
      " [ 5 31  8  4 18]\n",
      " [13  1 36  0  1]\n",
      " [ 0  1  0 56  0]\n",
      " [ 0  7  0  0 42]]\n"
     ]
    },
    {
     "data": {
      "image/png": "[encoded data removed]",
      "text/plain": [
       "<matplotlib.figure.Figure at 0x7fe970070f50>"
      ]
     },
     "metadata": {},
     "output_type": "display_data"
    }
   ],
   "source": [
    "# Plot non-normalized confusion matrix\n",
    "plt.figure()\n",
    "plot_confusion_matrix(cnf_matrix, classes=class_names,\n",
    "                      title='Confusion matrix, without normalization')"
   ]
  },
  {
   "cell_type": "code",
   "execution_count": 27,
   "metadata": {
    "collapsed": false
   },
   "outputs": [
    {
     "name": "stdout",
     "output_type": "stream",
     "text": [
      "Normalized confusion matrix\n",
      "[[ 0.66  0.02  0.3   0.    0.02]\n",
      " [ 0.08  0.47  0.12  0.06  0.27]\n",
      " [ 0.25  0.02  0.71  0.    0.02]\n",
      " [ 0.    0.02  0.    0.98  0.  ]\n",
      " [ 0.    0.14  0.    0.    0.86]]\n"
     ]
    },
    {
     "data": {
      "image/png": "[encoded data removed]",
      "text/plain": [
       "<matplotlib.figure.Figure at 0x7fe9627ebd50>"
      ]
     },
     "metadata": {},
     "output_type": "display_data"
    }
   ],
   "source": [
    "# Plot normalized confusion matrix\n",
    "plt.figure()\n",
    "plot_confusion_matrix(cnf_matrix, classes=class_names, normalize=True,\n",
    "                      title='Normalized confusion matrix %')\n",
    "\n",
    "plt.show()"
   ]
  },
  {
   "cell_type": "code",
   "execution_count": null,
   "metadata": {
    "collapsed": true
   },
   "outputs": [],
   "source": []
  }
 ],
 "metadata": {
  "kernelspec": {
   "display_name": "Python 2 with Spark 1.6",
   "language": "python",
   "name": "python2"
  },
  "language_info": {
   "codemirror_mode": {
    "name": "ipython",
    "version": 2
   },
   "file_extension": ".py",
   "mimetype": "text/x-python",
   "name": "python",
   "nbconvert_exporter": "python",
   "pygments_lexer": "ipython2",
   "version": "2.7.11"
  },
  "widgets": {
   "state": {
    "041125db37c94b8cabd62625c68134ab": {
     "views": []
    },
    "32f809ee065741739656912d6ec18d26": {
     "views": []
    },
    "8c4c8a56dd7d41f0a1d504e8a8c66702": {
     "views": []
    },
    "a7513c0d616b4fefba4eea9769139e91": {
     "views": []
    },
    "afbeed8824f74e579497032e5ad3fc9e": {
     "views": [
      {
       "cell_index": 11
      }
     ]
    },
    "dbe253a11a194b8189607ce0ce4d9223": {
     "views": []
    }
   },
   "version": "1.1.2"
  }
 },
 "nbformat": 4,
 "nbformat_minor": 0
}